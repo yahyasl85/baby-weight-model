{
  "nbformat": 4,
  "nbformat_minor": 0,
  "metadata": {
    "colab": {
      "provenance": []
    },
    "kernelspec": {
      "name": "python3",
      "display_name": "Python 3"
    },
    "language_info": {
      "name": "python"
    }
  },
  "cells": [
    {
      "cell_type": "code",
      "execution_count": null,
      "metadata": {
        "colab": {
          "base_uri": "https://localhost:8080/",
          "height": 111
        },
        "id": "Q_4QnvLX_wi1",
        "outputId": "40cdb920-b499-4e0d-a997-82eb72d54ace"
      },
      "outputs": [
        {
          "output_type": "error",
          "ename": "IndentationError",
          "evalue": "expected an indented block after 'for' statement on line 88 (<ipython-input-1-e170f4aefc42>, line 89)",
          "traceback": [
            "\u001b[0;36m  File \u001b[0;32m\"<ipython-input-1-e170f4aefc42>\"\u001b[0;36m, line \u001b[0;32m89\u001b[0m\n\u001b[0;31m    row\u001b[0m\n\u001b[0m    ^\u001b[0m\n\u001b[0;31mIndentationError\u001b[0m\u001b[0;31m:\u001b[0m expected an indented block after 'for' statement on line 88\n"
          ]
        }
      ],
      "source": [
        "# prompt: from google.cloud import bigquery\n",
        "# # Construct a BigQuery client object.\n",
        "# client = bigquery.Client()\n",
        "# # 1. Create a Linear Regression Model\n",
        "# query_create_model = \"\"\"\n",
        "# #standardSQL\n",
        "# CREATE OR REPLACE MODEL `your_dataset.baby_weight_model`\n",
        "# OPTIONS(model_type='linear_reg', input_label_cols=['weight_pounds']) AS\n",
        "# SELECT\n",
        "#     weight_pounds,\n",
        "#     mother_age,\n",
        "#     father_age,\n",
        "#     gestation_weeks,\n",
        "#     is_male,\n",
        "#     plurality\n",
        "#   FROM\n",
        "#     `bigquery-public-data.samples.natality`\n",
        "#   WHERE weight_pounds IS NOT NULL\n",
        "#    AND mother_age IS NOT NULL\n",
        "#    AND father_age IS NOT NULL\n",
        "#    AND gestation_weeks IS NOT NULL\n",
        "# \"\"\"\n",
        "# query_job = client.query(query_create_model)  # Make an API request.\n",
        "# query_job.result()  # Wait for the job to complete.\n",
        "# # 2. Make Predictions with the Model\n",
        "# query_predict = \"\"\"\n",
        "# #standardSQL\n",
        "# SELECT\n",
        "#   *\n",
        "# FROM\n",
        "#   ML.PREDICT(MODEL `your_dataset.baby_weight_model`,\n",
        "#     (\n",
        "#     SELECT\n",
        "#         *\n",
        "#       FROM\n",
        "#         `bigquery-public-data.samples.natality`\n",
        "#       WHERE weight_pounds IS NOT NULL\n",
        "#        AND pluralit\n",
        "\n",
        "from google.cloud import bigquery\n",
        "\n",
        "# Construct a BigQuery client object.\n",
        "client = bigquery.Client()\n",
        "\n",
        "# 1. Create a Linear Regression Model\n",
        "query_create_model = \"\"\"\n",
        "#standardSQL\n",
        "CREATE OR REPLACE MODEL `your_dataset.baby_weight_model`\n",
        "OPTIONS(model_type='linear_reg', input_label_cols=['weight_pounds']) AS\n",
        "SELECT\n",
        "    weight_pounds,\n",
        "    mother_age,\n",
        "    father_age,\n",
        "    gestation_weeks,\n",
        "    is_male,\n",
        "    plurality\n",
        "  FROM\n",
        "    `bigquery-public-data.samples.natality`\n",
        "  WHERE weight_pounds IS NOT NULL\n",
        "   AND mother_age IS NOT NULL\n",
        "   AND father_age IS NOT NULL\n",
        "   AND gestation_weeks IS NOT NULL\n",
        "\"\"\"\n",
        "query_job = client.query(query_create_model)  # Make an API request.\n",
        "query_job.result()  # Wait for the job to complete.\n",
        "\n",
        "# 2. Make Predictions with the Model\n",
        "query_predict = \"\"\"\n",
        "#standardSQL\n",
        "SELECT\n",
        "  *\n",
        "FROM\n",
        "  ML.PREDICT(MODEL `your_dataset.baby_weight_model`,\n",
        "    (\n",
        "    SELECT\n",
        "        *\n",
        "      FROM\n",
        "        `bigquery-public-data.samples.natality`\n",
        "      WHERE weight_pounds IS NOT NULL\n",
        "       AND plurality IS NOT NULL\n",
        "       AND gestation_weeks IS NOT NULL\n",
        "       LIMIT 10\n",
        "    )\n",
        "  )\n",
        "\"\"\"\n",
        "query_job = client.query(query_predict)  # Make an API request.\n",
        "print(\"The query data:\")\n",
        "for row in query_job:\n",
        "row"
      ]
    },
    {
      "source": [
        "from google.cloud import bigquery\n",
        "\n",
        "# Construct a BigQuery client object.\n",
        "client = bigquery.Client()\n",
        "\n",
        "# 1. Create a Linear Regression Model\n",
        "query_create_model = \"\"\"\n",
        "#standardSQL\n",
        "CREATE OR REPLACE MODEL `your_dataset.baby_weight_model`\n",
        "OPTIONS(model_type='linear_reg', input_label_cols=['weight_pounds']) AS\n",
        "SELECT\n",
        "    weight_pounds,\n",
        "    mother_age,\n",
        "    father_age,\n",
        "    gestation_weeks,\n",
        "    is_male,\n",
        "    plurality\n",
        "  FROM\n",
        "    `bigquery-public-data.samples.natality`\n",
        "  WHERE weight_pounds IS"
      ],
      "cell_type": "code",
      "metadata": {
        "id": "65_0BHB0b-mv",
        "outputId": "4f5cd710-a879-493a-f82a-cd8e617a03d5",
        "colab": {
          "base_uri": "https://localhost:8080/",
          "height": 111
        }
      },
      "execution_count": null,
      "outputs": [
        {
          "output_type": "error",
          "ename": "SyntaxError",
          "evalue": "incomplete input (<ipython-input-2-1f30d69bf19a>, line 7)",
          "traceback": [
            "\u001b[0;36m  File \u001b[0;32m\"<ipython-input-2-1f30d69bf19a>\"\u001b[0;36m, line \u001b[0;32m7\u001b[0m\n\u001b[0;31m    query_create_model = \"\"\"\u001b[0m\n\u001b[0m                         ^\u001b[0m\n\u001b[0;31mSyntaxError\u001b[0m\u001b[0;31m:\u001b[0m incomplete input\n"
          ]
        }
      ]
    },
    {
      "source": [
        "from google.cloud import bigquery\n",
        "\n",
        "# Construct a BigQuery client object.\n",
        "client = bigquery.Client()\n",
        "\n",
        "# 1. Create a Linear Regression Model\n",
        "query_create_model = \"\"\"\n",
        "#standardSQL\n",
        "CREATE OR REPLACE MODEL `your_dataset.baby_weight_model`\n",
        "OPTIONS(model_type='linear_reg', input_label_cols=['weight_pounds']) AS\n",
        "SELECT\n",
        "    weight_pounds,\n",
        "    mother_age,\n",
        "    father_age,\n",
        "    gestation_weeks,\n",
        "    is_male,\n",
        "    plurality\n",
        "  FROM\n",
        "    `bigquery-public-data."
      ],
      "cell_type": "code",
      "metadata": {
        "colab": {
          "base_uri": "https://localhost:8080/",
          "height": 111
        },
        "id": "wLaAv5xkQOcG",
        "outputId": "82b9d8c1-b7ff-40d9-b36a-eac9d0345088"
      },
      "execution_count": null,
      "outputs": [
        {
          "output_type": "error",
          "ename": "SyntaxError",
          "evalue": "incomplete input (<ipython-input-3-90cdccc033f7>, line 7)",
          "traceback": [
            "\u001b[0;36m  File \u001b[0;32m\"<ipython-input-3-90cdccc033f7>\"\u001b[0;36m, line \u001b[0;32m7\u001b[0m\n\u001b[0;31m    query_create_model = \"\"\"\u001b[0m\n\u001b[0m                         ^\u001b[0m\n\u001b[0;31mSyntaxError\u001b[0m\u001b[0;31m:\u001b[0m incomplete input\n"
          ]
        }
      ]
    }
  ]
}